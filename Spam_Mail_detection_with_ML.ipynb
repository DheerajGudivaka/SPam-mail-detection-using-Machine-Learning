{
  "nbformat": 4,
  "nbformat_minor": 0,
  "metadata": {
    "colab": {
      "name": "Spam Mail detection with ML.ipynb",
      "provenance": []
    },
    "kernelspec": {
      "name": "python3",
      "display_name": "Python 3"
    },
    "language_info": {
      "name": "python"
    }
  },
  "cells": [
    {
      "cell_type": "code",
      "execution_count": 1,
      "metadata": {
        "id": "aALLnZb1xkUO"
      },
      "outputs": [],
      "source": [
        "#Gudivaka Sai Dheeraj\n",
        "\n",
        "import numpy as np\n",
        "import pandas as pd\n",
        "from sklearn.model_selection import train_test_split\n",
        "#train_test_split is used to sepearte the data train and test\n",
        "from sklearn.feature_extraction.text import TfidfVectorizer\n",
        "#tfidfvectorizer is used to extract the features from the test\n",
        "from sklearn.svm import LinearSVC\n",
        "#linearsvc is the svm model\n",
        "from sklearn.metrics import accuracy_score\n",
        "#to check how accurate our model is accuracy_score is needed"
      ]
    },
    {
      "cell_type": "code",
      "source": [
        "\"\"\"Data preprocessing\"\"\"\n",
        "\n",
        "#load the dataset into pandas Data Frame\n",
        "raw_mail_data = pd.read_csv('spamham.csv')\n",
        "#repalce the empty data with a null string\n",
        "mail_data = raw_mail_data.where((pd.notnull(raw_mail_data)), '')\n",
        "mail_data.shape\n",
        "\n",
        "mail_data.tail()\n",
        "\n",
        "#label spam mail as 0 and ham mail as 1\n",
        "mail_data.loc[mail_data['Category']=='spam','Category',]=0\n",
        "mail_data.loc[mail_data['Category']=='ham','Category',]=1\n",
        "\n",
        "mail_data.head(40)\n",
        "\n",
        "#separate the data as text and label x is text and y is label\n",
        "x=mail_data['Message']\n",
        "y=mail_data['Category']\n",
        "\n"
      ],
      "metadata": {
        "id": "ppnaxNjzxsSF"
      },
      "execution_count": 3,
      "outputs": []
    },
    {
      "cell_type": "code",
      "source": [
        "\"\"\"Train Test Split\"\"\"\n",
        "\n",
        "#split the data as train and test\n",
        "x_train , x_test , y_train, y_test  = train_test_split(x, y, train_size=0.8, test_size=0.2 ,random_state =3)\n",
        "\n"
      ],
      "metadata": {
        "id": "o3XkkQvQxsVA"
      },
      "execution_count": 4,
      "outputs": []
    },
    {
      "cell_type": "code",
      "source": [
        "\"\"\"Feature Extraction\"\"\"\n",
        "\n",
        "#transform the test to feature vectors that can be used as input to the svm model using tfidfvectorizer\n",
        "#-------------------------------------------------------------\n",
        "#convert the text to lower case letters\n",
        "feature_extraction = TfidfVectorizer(min_df =1, stop_words ='english', lowercase ='True')\n",
        "x_train_features = feature_extraction.fit_transform(x_train)\n",
        "x_test_features = feature_extraction.transform(x_test)\n",
        "#-------------------------------------------------------------\n",
        "#convert y_train and y_test values as integers\n",
        "y_train = y_train.astype('int')\n",
        "y_test = y_test.astype('int')\n"
      ],
      "metadata": {
        "id": "5KnY8uN8xsX0"
      },
      "execution_count": 18,
      "outputs": []
    },
    {
      "cell_type": "code",
      "source": [
        "\"\"\"Training the Model--> *Support Vector Machine*\"\"\"\n",
        "\n",
        "#training the support vector machine model with ttraining data\n",
        "model = LinearSVC()\n",
        "model.fit(x_train_features , y_train)"
      ],
      "metadata": {
        "colab": {
          "base_uri": "https://localhost:8080/"
        },
        "id": "wxgNwnnHxsaL",
        "outputId": "80f069d7-ca1d-4965-8f76-5d7895962590"
      },
      "execution_count": 17,
      "outputs": [
        {
          "output_type": "execute_result",
          "data": {
            "text/plain": [
              "LinearSVC()"
            ]
          },
          "metadata": {},
          "execution_count": 17
        }
      ]
    },
    {
      "cell_type": "code",
      "source": [
        "\n",
        "\"\"\"Evaluation of the model\"\"\"\n",
        "\n",
        "#prediction on training data\n",
        "prediction_on_training_data = model.predict(x_train_features)\n",
        "accuracy_on_training_data = accuracy_score(y_train , prediction_on_training_data)\n",
        "print('accuracy on train data',accuracy_on_training_data)\n",
        "\n",
        "#prediction on test data\n",
        "prediction_on_test_data = model.predict(x_test_features)\n",
        "accuracy_on_test_data = accuracy_score(y_test , prediction_on_test_data)\n",
        "print('accuracy on test data',accuracy_on_test_data)"
      ],
      "metadata": {
        "colab": {
          "base_uri": "https://localhost:8080/"
        },
        "id": "XtiDLmaJxsc8",
        "outputId": "89a543a0-e41d-4a85-def8-ade39f24b871"
      },
      "execution_count": 19,
      "outputs": [
        {
          "output_type": "stream",
          "name": "stdout",
          "text": [
            "accuracy on train data 0.9993269015032533\n",
            "accuracy on test data 0.9820627802690582\n"
          ]
        }
      ]
    },
    {
      "cell_type": "code",
      "source": [
        "\"\"\"Prediction on new mail\"\"\"\n",
        "\n",
        "input_mail = [\"Free entry in 2 a wkly comp to win FA Cup final tkts 21st May 2005.\"]\n",
        "#convert text to feature vectors\n",
        "input_mail_features = feature_extraction.transform(input_mail)\n",
        "\n",
        "#making prediction\n",
        "prediction = model.predict(input_mail_features)\n",
        "print(prediction)\n",
        "if(prediction[0]==1):\n",
        "  print('Not a Spam Mail')\n",
        "else:\n",
        "  print('SPAM MAIL!')"
      ],
      "metadata": {
        "colab": {
          "base_uri": "https://localhost:8080/"
        },
        "id": "OteEn-ZAxsfq",
        "outputId": "cc44ccc1-1673-4711-bd58-04dc4b5a0bdb"
      },
      "execution_count": 20,
      "outputs": [
        {
          "output_type": "stream",
          "name": "stdout",
          "text": [
            "[0]\n",
            "SPAM MAIL!\n"
          ]
        }
      ]
    },
    {
      "cell_type": "code",
      "source": [
        ""
      ],
      "metadata": {
        "id": "PxYLN7p2xsiA"
      },
      "execution_count": null,
      "outputs": []
    },
    {
      "cell_type": "code",
      "source": [
        ""
      ],
      "metadata": {
        "id": "caaWDz4Hxsk3"
      },
      "execution_count": null,
      "outputs": []
    },
    {
      "cell_type": "code",
      "source": [
        ""
      ],
      "metadata": {
        "id": "yhSB2zB5xsnb"
      },
      "execution_count": null,
      "outputs": []
    },
    {
      "cell_type": "code",
      "source": [
        ""
      ],
      "metadata": {
        "id": "1sh9ANztxssz"
      },
      "execution_count": null,
      "outputs": []
    }
  ]
}